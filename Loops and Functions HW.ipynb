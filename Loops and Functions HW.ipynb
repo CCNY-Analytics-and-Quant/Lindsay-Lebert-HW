{
 "cells": [
  {
   "cell_type": "code",
   "execution_count": 61,
   "metadata": {},
   "outputs": [
    {
     "name": "stdout",
     "output_type": "stream",
     "text": [
      "In 40 years you'll retire at 67 with 983085\n"
     ]
    }
   ],
   "source": [
    "# Convert variables to dynamic inputs\n",
    "acct_bal = int(input('What is your current account balance? '))\n",
    "deposit = int(input('How much will you contribute every year? '))\n",
    "cur_age = int(input('What is your current age?'))\n",
    "ret_age = int(input('When will you retire?'))\n",
    "return_rate = float(input('What is the annual return rate?'))\n",
    "salary = int(input('What is your current salary?'))\n",
    "rf_rate = 0.025\n",
    "match_rate = 0.05\n",
    "matching = 0\n",
    "years = 0\n",
    "\n",
    "#for loop with annual return \n",
    "\n",
    "for year in range(cur_age, ret_age):\n",
    "    salary *= 1 + rf_rate\n",
    "    matching = salary * match_rate\n",
    "    inv_return = salary * return_rate\n",
    "    acct_bal += int(deposit + matching + inv_return)\n",
    "    years += 1\n",
    "\n",
    "print(f\"In {years} years you'll retire at {ret_age} with {acct_bal}\")"
   ]
  },
  {
   "cell_type": "code",
   "execution_count": 62,
   "metadata": {},
   "outputs": [
    {
     "name": "stdout",
     "output_type": "stream",
     "text": [
      "At 47 you can retire with 2106176\n"
     ]
    }
   ],
   "source": [
    "# For While - estimate desired retirement balance and calculate retirement age\n",
    "acct_bal = int(input('What is your current account balance? '))\n",
    "deposit = int(input('How much will you contribute every year? '))\n",
    "cur_age = int(input('What is your current age?'))\n",
    "return_rate = float(input('What is the annual return rate?'))\n",
    "salary = int(input('What is your current salary?'))\n",
    "early_ret = int(input('How much do you want to retire with?'))\n",
    "rf_rate = 0.025\n",
    "match_rate = 0.05\n",
    "matching = 0\n",
    "years = 0\n",
    "\n",
    "while acct_bal < early_ret:\n",
    "    salary *= 1 + rf_rate\n",
    "    matching = salary * match_rate\n",
    "    inv_return = salary * return_rate\n",
    "    acct_bal += int(deposit + matching + inv_return)\n",
    "    years += 1\n",
    "\n",
    "fire_age = cur_age + years\n",
    "\n",
    "print(f\"At {fire_age} you can retire with {acct_bal}\")\n",
    "\n"
   ]
  },
  {
   "cell_type": "markdown",
   "metadata": {},
   "source": [
    "''Defining Functions''"
   ]
  },
  {
   "cell_type": "code",
   "execution_count": 63,
   "metadata": {},
   "outputs": [],
   "source": [
    "def ret_calc(cur_age, ret_age, acct_bal, deposit, salary, rf_rate, match_rate, return_rate):\n",
    "    years = 0\n",
    "    for year in range(cur_age, ret_age):\n",
    "        salary *= 1 + rf_rate\n",
    "        matching = salary * match_rate\n",
    "        inv_return = salary * return_rate\n",
    "        acct_bal += int(deposit + matching + inv_return)\n",
    "        years += 1\n",
    "\n",
    "    return (f\"In {years} years you'll retire at {ret_age} with {acct_bal}\")\n",
    "    "
   ]
  },
  {
   "cell_type": "code",
   "execution_count": 64,
   "metadata": {},
   "outputs": [
    {
     "data": {
      "text/plain": [
       "\"In 40 years you'll retire at 67 with 983085\""
      ]
     },
     "execution_count": 64,
     "metadata": {},
     "output_type": "execute_result"
    }
   ],
   "source": [
    "ret_calc (27, 67, 15000, 3200, 64000, 0.025, 0.05, 0.14)"
   ]
  },
  {
   "cell_type": "code",
   "execution_count": 68,
   "metadata": {},
   "outputs": [],
   "source": [
    "def fire_calc (\n",
    "        cur_age = int,\n",
    "        acct_bal = int, \n",
    "        salary = int, \n",
    "        deposit = int, \n",
    "        match_rate = float,\n",
    "        return_rate = float,\n",
    "        early_ret = int):\n",
    "    \n",
    "    years = 0\n",
    "    \n",
    "\n",
    "\n",
    "    while acct_bal < early_ret:\n",
    "        salary *= 1 + rf_rate\n",
    "        matching = salary * match_rate\n",
    "        inv_return = salary * return_rate\n",
    "        acct_bal += int(deposit + matching + inv_return)\n",
    "        years += 1\n",
    "\n",
    "    fire_age = cur_age + years\n",
    "\n",
    "    print(f\"At {fire_age} and after {years} years you can retire with {acct_bal}\")"
   ]
  },
  {
   "cell_type": "code",
   "execution_count": 67,
   "metadata": {},
   "outputs": [
    {
     "name": "stdout",
     "output_type": "stream",
     "text": [
      "At 47 and after 20 years you can retire with 2106176\n"
     ]
    }
   ],
   "source": [
    "fire_calc (27, 15000, 350000, 17500, 0.05, 0.14, 2000000)"
   ]
  },
  {
   "cell_type": "code",
   "execution_count": null,
   "metadata": {},
   "outputs": [],
   "source": []
  }
 ],
 "metadata": {
  "kernelspec": {
   "display_name": "Python 3",
   "language": "python",
   "name": "python3"
  },
  "language_info": {
   "codemirror_mode": {
    "name": "ipython",
    "version": 3
   },
   "file_extension": ".py",
   "mimetype": "text/x-python",
   "name": "python",
   "nbconvert_exporter": "python",
   "pygments_lexer": "ipython3",
   "version": "3.9.6"
  }
 },
 "nbformat": 4,
 "nbformat_minor": 2
}
