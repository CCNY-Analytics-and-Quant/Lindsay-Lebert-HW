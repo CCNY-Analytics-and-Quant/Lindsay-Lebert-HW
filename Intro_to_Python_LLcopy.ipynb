{
 "cells": [
  {
   "cell_type": "code",
   "execution_count": null,
   "id": "6ec7f96a-149b-4274-80b8-70ee9f9d1a8f",
   "metadata": {},
   "outputs": [],
   "source": [
    "my_variable = 32432"
   ]
  },
  {
   "cell_type": "code",
   "execution_count": null,
   "id": "463f757b-378c-41ea-9813-47e5c699dc3b",
   "metadata": {},
   "outputs": [],
   "source": [
    "type(my_variable)"
   ]
  },
  {
   "cell_type": "code",
   "execution_count": null,
   "id": "ab3fc646-2749-4d0e-a97a-01997a323cbb",
   "metadata": {},
   "outputs": [],
   "source": [
    "type(32432 / 3)"
   ]
  },
  {
   "cell_type": "code",
   "execution_count": null,
   "id": "82339690-1224-450a-9342-8c86655a81d1",
   "metadata": {},
   "outputs": [],
   "source": [
    "type(\"here's my string\")\n",
    "my_string = \"lakdjreow390q43q09uf 032q3qe jflaj )#@($#@)( )\"\n",
    "\n",
    "\n"
   ]
  },
  {
   "cell_type": "code",
   "execution_count": null,
   "id": "05cf0e94-2a36-4691-bdf3-5796667febbb",
   "metadata": {},
   "outputs": [],
   "source": [
    "my_string[1:10]"
   ]
  },
  {
   "cell_type": "code",
   "execution_count": null,
   "id": "fd2a7250-93d7-4157-856e-6af71e79db87",
   "metadata": {},
   "outputs": [],
   "source": [
    "\"\"\"allows\n",
    "me\n",
    "to use\n",
    "multiple lines\n",
    "in my\n",
    "string\n",
    "\"\"\""
   ]
  },
  {
   "cell_type": "code",
   "execution_count": null,
   "id": "abc953e2-8f39-4e90-962b-ee2f7092e473",
   "metadata": {},
   "outputs": [],
   "source": [
    "my_list = ['some string', my_string, 2034983209, my_variable]"
   ]
  },
  {
   "cell_type": "code",
   "execution_count": null,
   "id": "91977326-1d93-4a9e-aced-ca4ebc7ee9e6",
   "metadata": {},
   "outputs": [],
   "source": [
    "my_list.append('a new string')\n",
    "phone_number = '19999999999'\n",
    "my_list.append(phone_number)"
   ]
  },
  {
   "cell_type": "code",
   "execution_count": null,
   "id": "c62cd4ad-356e-44df-86b3-8e189434bd81",
   "metadata": {},
   "outputs": [],
   "source": [
    "my_list[-1][1:4] = 845\n",
    "my_list[-1] = '1845999999'"
   ]
  },
  {
   "cell_type": "code",
   "execution_count": null,
   "id": "94bbbcdd-13e0-42e1-9dea-2ec26665cfe8",
   "metadata": {},
   "outputs": [],
   "source": [
    "my_list[1] = phone_number\n",
    "my_list"
   ]
  },
  {
   "cell_type": "code",
   "execution_count": null,
   "id": "bc6f1e4b-0d94-4430-b674-615b8973c9bc",
   "metadata": {},
   "outputs": [],
   "source": [
    "my_tuple = ('some string', my_string, 20349853209, my_variable)"
   ]
  },
  {
   "cell_type": "code",
   "execution_count": null,
   "id": "dd862393-9340-4027-9395-4a78e15f0659",
   "metadata": {},
   "outputs": [],
   "source": [
    "my_tuple.append(phone_number)"
   ]
  },
  {
   "cell_type": "code",
   "execution_count": null,
   "id": "4452f7b6-6a2a-4465-ae2f-893209d32c47",
   "metadata": {},
   "outputs": [],
   "source": [
    "my_tuple[1] = phone_number"
   ]
  },
  {
   "cell_type": "code",
   "execution_count": null,
   "id": "f7a7b721-715b-4fce-97d2-79bb72f4a333",
   "metadata": {},
   "outputs": [],
   "source": [
    "my_tuple = ('some string', phone_number, 20349853209, my_variable, 'some string', phone_number)"
   ]
  },
  {
   "cell_type": "code",
   "execution_count": null,
   "id": "36ebee43-3820-4334-9f30-4cc6ba66efe2",
   "metadata": {},
   "outputs": [],
   "source": [
    "set(my_tuple)"
   ]
  },
  {
   "cell_type": "code",
   "execution_count": null,
   "id": "ee8519d1-638c-412d-8cf3-4023259e1aff",
   "metadata": {},
   "outputs": [],
   "source": [
    "num_list = [2, 34, 90, 2, 3, 5, 1, 634, 643, 23, 90]\n",
    "set(num_list)"
   ]
  },
  {
   "cell_type": "markdown",
   "id": "f8c6d6cd-0a76-4cc9-a21e-4eea77cffae6",
   "metadata": {},
   "source": [
    "[] -> list: mutable & iterable\n",
    "() -> tuple: immutable & iterable\n",
    "{} -> dictionary (dict): mutable & iterable"
   ]
  },
  {
   "cell_type": "code",
   "execution_count": null,
   "id": "5f6b75cc-5a11-4f7f-9271-d04ea035c177",
   "metadata": {},
   "outputs": [],
   "source": [
    "my_dict = {\"key\": \"value\"}"
   ]
  },
  {
   "cell_type": "code",
   "execution_count": null,
   "id": "6bd3c3b0-cd17-4282-9805-4d6fa988f120",
   "metadata": {},
   "outputs": [],
   "source": [
    "my_dict['key']"
   ]
  },
  {
   "cell_type": "code",
   "execution_count": null,
   "id": "13296abf-5d59-442a-8199-65144695f0f6",
   "metadata": {},
   "outputs": [],
   "source": [
    "my_dict = {'name': {'first_name': 'John', 'last_name': 'Droescher'}}"
   ]
  },
  {
   "cell_type": "code",
   "execution_count": null,
   "id": "8e99df89-d106-4d61-ac17-be394e60aead",
   "metadata": {},
   "outputs": [],
   "source": [
    "my_dict['name']['last_name']"
   ]
  },
  {
   "cell_type": "code",
   "execution_count": null,
   "id": "a9b3a53d-c944-447c-862e-2993a93d50fb",
   "metadata": {},
   "outputs": [],
   "source": [
    "len(range(50))\n",
    "\n",
    "# for letter in my_string:\n",
    "#     print(letter)\n",
    "#     print(letter * 2)\n",
    "#     print(letter.upper())"
   ]
  },
  {
   "cell_type": "code",
   "execution_count": null,
   "id": "0d47d740-23ef-4e73-bd93-fb9d9a8ee7b5",
   "metadata": {},
   "outputs": [],
   "source": [
    "# Define base variables\n",
    "bal = 10000\n",
    "deposit = 22500\n",
    "\n",
    "ret_age = 50\n",
    "cur_age = 21\n",
    "\n",
    "# Run loop for each year\n",
    "for year in range(ret_age - cur_age):\n",
    "  bal = bal + deposit\n",
    "\n",
    "# Output the results\n",
    "print(bal)"
   ]
  },
  {
   "cell_type": "code",
   "execution_count": null,
   "id": "7094f0c9-e28d-4694-87aa-0cc5e3f19cc5",
   "metadata": {},
   "outputs": [],
   "source": [
    "acct_bal = 0\n",
    "deposit = 22500\n",
    "cur_age = 22\n",
    "ret_age = 67\n",
    "salary = 60000\n",
    "matching = 0\n",
    "\n",
    "for year in range(cur_age, ret_age):\n",
    "    acct_bal = acct_bal + deposit\n",
    "\n",
    "acct_bal"
   ]
  },
  {
   "cell_type": "code",
   "execution_count": null,
   "id": "b4d14fd1-6c79-44b6-8f89-87ce3761e497",
   "metadata": {},
   "outputs": [],
   "source": [
    "%%timeit\n",
    "acct_bal = 0\n",
    "deposit = 22500\n",
    "cur_age = 22\n",
    "ret_age = 67\n",
    "salary = 60000\n",
    "matching = salary * 0.05\n",
    "\n",
    "for year in range(cur_age, ret_age):\n",
    "    acct_bal = acct_bal + deposit + matching"
   ]
  },
  {
   "cell_type": "code",
   "execution_count": 4,
   "id": "7186d341-73fc-4c3b-804f-17ec3b672f49",
   "metadata": {
    "tags": []
   },
   "outputs": [
    {
     "name": "stdin",
     "output_type": "stream",
     "text": [
      "What is your current account balance?  10000\n",
      "How much will you contribute every year?  15000\n",
      "What is your current age? 27\n",
      "What is your current salary? 60000\n"
     ]
    },
    {
     "name": "stdout",
     "output_type": "stream",
     "text": [
      "1397598.8380634717 67\n"
     ]
    }
   ],
   "source": [
    "acct_bal = int(input('What is your current account balance? '))\n",
    "deposit = int(input('How much will you contribute every year? '))\n",
    "cur_age = int(input('What is your current age?'))\n",
    "\n",
    "\n",
    "salary = int(input('What is your current salary?'))\n",
    "rf_rate = 0.025\n",
    "match_rate = 0.05\n",
    "matching = 0\n",
    "\n",
    "for year in range(cur_age, ret_age):\n",
    "    salary *= 1 + rf_rate\n",
    "    matching = salary * match_rate\n",
    "    inv_return = salary * return_rate\n",
    "    acct_bal += deposit + matching + inv_return\n",
    "\n",
    "print(acct_bal, ret_age)"
   ]
  },
  {
   "cell_type": "code",
   "execution_count": 8,
   "id": "8891d805-8670-4c1d-ba4d-af683150cedf",
   "metadata": {
    "tags": []
   },
   "outputs": [
    {
     "name": "stdout",
     "output_type": "stream",
     "text": [
      "1341989.1103058262 67\n"
     ]
    }
   ],
   "source": [
    "salary = 60000\n",
    "acct_bal = 0\n",
    "\n",
    "while acct_bal < 1300000:\n",
    "    salary *= 1 + rf_rate\n",
    "    matching = salary * match_rate\n",
    "    inv_return = salary * return_rate\n",
    "    acct_bal += deposit + matching + inv_return\n",
    "    \n",
    "print(acct_bal, ret_age)"
   ]
  },
  {
   "cell_type": "markdown",
   "id": "2a93a540-a82c-4cda-b4cf-054e924ab5b5",
   "metadata": {
    "tags": []
   },
   "source": [
    "Homework:\n",
    "1) Convert variables to dynamic inputs\n",
    "2) Add investment returns (assume 14% annual return) to both loops\n",
    "3) For While loop  \n",
    "    3a) estimate desired retirement balance  \n",
    "    3b) calculate what age you can retire at  \n",
    "    "
   ]
  },
  {
   "cell_type": "code",
   "execution_count": 20,
   "id": "10722944-5728-437a-8e0d-56c15c9d548f",
   "metadata": {
    "tags": []
   },
   "outputs": [
    {
     "name": "stdin",
     "output_type": "stream",
     "text": [
      "What is your current account balance? 5000\n",
      "What is your current salary? 60000\n",
      "How much will you contribute every year? 15000\n",
      "What is your current age? 27\n",
      "What is the annual return rate? 0.14\n"
     ]
    },
    {
     "name": "stdout",
     "output_type": "stream",
     "text": [
      "You can reture at 95 with 3063198.928739801\n"
     ]
    }
   ],
   "source": [
    "acct_bal =  int(input('What is your current account balance?'))\n",
    "salary = int(input('What is your current salary?'))\n",
    "deposit = int(input('How much will you contribute every year?'))\n",
    "curr_age = int(input('What is your current age?'))\n",
    "return_rate = float(input('What is the annual return rate?'))\n",
    "rf_rate = 0.025\n",
    "match_rate = 0.05\n",
    "matching = 0\n",
    "    \n",
    "while acct_bal < 3000000:\n",
    "        salary *= 1 + rf_rate\n",
    "        matching = salary * match_rate\n",
    "        inv_return = salary * return_rate\n",
    "        acct_bal += deposit + matching + inv_return\n",
    "        cur_age += 1\n",
    "print(f'You can reture at {cur_age} with {acct_bal}')"
   ]
  },
  {
   "cell_type": "code",
   "execution_count": null,
   "id": "9d3a8cba-75ed-46b5-b0e3-283a4f8870b6",
   "metadata": {},
   "outputs": [],
   "source": []
  }
 ],
 "metadata": {
  "kernelspec": {
   "display_name": "Python 3 (ipykernel)",
   "language": "python",
   "name": "python3"
  },
  "language_info": {
   "codemirror_mode": {
    "name": "ipython",
    "version": 3
   },
   "file_extension": ".py",
   "mimetype": "text/x-python",
   "name": "python",
   "nbconvert_exporter": "python",
   "pygments_lexer": "ipython3",
   "version": "3.9.7"
  }
 },
 "nbformat": 4,
 "nbformat_minor": 5
}
